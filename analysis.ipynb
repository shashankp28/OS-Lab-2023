{
 "cells": [
  {
   "cell_type": "code",
   "execution_count": 2,
   "metadata": {},
   "outputs": [],
   "source": [
    "data = []\n",
    "\n",
    "with open(\"./log.txt\", \"r\") as f:\n",
    "    for line in f.readlines():\n",
    "        filtered = int(line.strip())\n",
    "        data.append(filtered)\n"
   ]
  },
  {
   "cell_type": "code",
   "execution_count": 6,
   "metadata": {},
   "outputs": [],
   "source": [
    "import numpy as np\n",
    "import matplotlib.pyplot as plt\n",
    "%matplotlib inline\n",
    "plt.rcParams.update({'font.size': 15})\n"
   ]
  },
  {
   "cell_type": "code",
   "execution_count": 10,
   "metadata": {},
   "outputs": [],
   "source": [
    "data_np = np.array(data).reshape(5, -1)/500"
   ]
  },
  {
   "cell_type": "code",
   "execution_count": null,
   "metadata": {},
   "outputs": [],
   "source": [
    "plt.figure(figsize=(10, 7))\n",
    "plt.title(\"Plot of Fractional Valid Requests vs Limit Value\")\n",
    "plt.plot(data_np[0])\n",
    "plt.plot(data_np[1])\n",
    "plt.plot(data_np[2])\n",
    "plt.plot(data_np[3])\n",
    "plt.plot(data_np[4])\n",
    "plt.legend([\"Seed 1\", \"Seed 2\", \"Seed 3\", \"Seed 4\", \"Seed 5\"])\n",
    "plt.xlabel(\"Limit Value\")\n",
    "plt.ylabel(\"Fraction of Valid Requests\")\n",
    "plt.savefig(\"plot.png\")"
   ]
  },
  {
   "cell_type": "code",
   "execution_count": null,
   "metadata": {},
   "outputs": [],
   "source": []
  }
 ],
 "metadata": {
  "kernelspec": {
   "display_name": "Python 3",
   "language": "python",
   "name": "python3"
  },
  "language_info": {
   "codemirror_mode": {
    "name": "ipython",
    "version": 3
   },
   "file_extension": ".py",
   "mimetype": "text/x-python",
   "name": "python",
   "nbconvert_exporter": "python",
   "pygments_lexer": "ipython3",
   "version": "3.11.1"
  },
  "orig_nbformat": 4
 },
 "nbformat": 4,
 "nbformat_minor": 2
}
